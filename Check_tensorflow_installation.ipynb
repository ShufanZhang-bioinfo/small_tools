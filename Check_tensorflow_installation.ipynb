{
 "cells": [
  {
   "cell_type": "markdown",
   "id": "da1b23ea-1356-4bf3-88a4-eacffb09dbaa",
   "metadata": {},
   "source": [
    "# TEST Tensorflow"
   ]
  },
  {
   "cell_type": "code",
   "execution_count": 2,
   "id": "eb1ea4cd-3087-46ae-ae95-debdd75e5d18",
   "metadata": {},
   "outputs": [
    {
     "name": "stdout",
     "output_type": "stream",
     "text": [
      "cuDNN is available: [[[[0.]]]]\n"
     ]
    }
   ],
   "source": [
    "import tensorflow as tf\n",
    "\n",
    "# Verify TensorFlow sees the GPU\n",
    "assert tf.config.list_physical_devices('GPU')\n",
    "\n",
    "# Verify cuDNN is available\n",
    "from tensorflow.python.keras.layers import Conv2D\n",
    "print(\"cuDNN is available:\", Conv2D(1, (1, 1))(tf.zeros((1, 1, 1, 1))).numpy())\n"
   ]
  }
 ],
 "metadata": {
  "kernelspec": {
   "display_name": "py39_tf_gpu_2.15_cuda_12.2",
   "language": "python",
   "name": "py39_tf_gpu_2.15_cuda_12.2"
  },
  "language_info": {
   "codemirror_mode": {
    "name": "ipython",
    "version": 3
   },
   "file_extension": ".py",
   "mimetype": "text/x-python",
   "name": "python",
   "nbconvert_exporter": "python",
   "pygments_lexer": "ipython3",
   "version": "3.10.12"
  }
 },
 "nbformat": 4,
 "nbformat_minor": 5
}
